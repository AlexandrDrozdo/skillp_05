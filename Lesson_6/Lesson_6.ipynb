{
 "cells": [
  {
   "cell_type": "code",
   "execution_count": 9,
   "id": "be56a72d",
   "metadata": {},
   "outputs": [
    {
     "name": "stdout",
     "output_type": "stream",
     "text": [
      "{'Карл Мэлоун': 206,\n",
      " 'Коби Брайант': 198,\n",
      " 'Леброн Джеймс': 206,\n",
      " 'Тони Паркер': 186,\n",
      " 'Шакил О’Нил': 216}\n",
      "186\n",
      "{'Карл Мэлоун': 206,\n",
      " 'Коби Брайант': 198,\n",
      " 'Леброн Джеймс': 206,\n",
      " 'Шакил О’Нил': 216}\n",
      "False\n",
      "{'Егор Мищереков': 209,\n",
      " 'Карл Мэлоун': 206,\n",
      " 'Коби Брайант': 198,\n",
      " 'Леброн Джеймс': 206,\n",
      " 'Шакил О’Нил': 216}\n"
     ]
    }
   ],
   "source": [
    "from pprint import pprint \n",
    "#basketball\n",
    "basketball_players = {\n",
    "    \"Коби Брайант\": 198,\n",
    "    \"Леброн Джеймс\": 206,\n",
    "    \"Шакил О’Нил\": 216,\n",
    "    \"Карл Мэлоун\": 206,\n",
    "    \"Тони Паркер\": 186\n",
    "}\n",
    "pprint(basketball_players)\n",
    "#поис\n",
    "pprint(basketball_players[\"Тони Паркер\"])\n",
    "#удаление\n",
    "del basketball_players[\"Тони Паркер\"]\n",
    "pprint(basketball_players)\n",
    "pprint(\"Тони Паркер\" in basketball_players)\n",
    "#добавление\n",
    "basketball_players_new = {\n",
    "     \"Егор Мищереков\": 209\n",
    "}\n",
    "basketball_players.update(basketball_players_new)\n",
    "pprint(basketball_players)\n"
   ]
  },
  {
   "cell_type": "code",
   "execution_count": 20,
   "id": "0dda264b",
   "metadata": {},
   "outputs": [
    {
     "name": "stdout",
     "output_type": "stream",
     "text": [
      "{'cat': 'chat',\n",
      " 'food': 'aliment',\n",
      " 'good afternoon': 'bonjour',\n",
      " 'good night': 'Bonne nuit',\n",
      " 'thank you': 'Merci',\n",
      " 'words': 'mot'}\n",
      "{'cat': 'chat',\n",
      " 'fish': 'poisson',\n",
      " 'food': 'aliment',\n",
      " 'good afternoon': 'bonjour',\n",
      " 'good night': 'Bonne nuit',\n",
      " 'thank you': 'Merci',\n",
      " 'words': 'mot'}\n",
      "{'cat': 'chat',\n",
      " 'fish': 'poisson',\n",
      " 'food': 'aliment',\n",
      " 'good afternoon': 'bonjour',\n",
      " 'good night': 'Bonne nuit',\n",
      " 'thank you': 'Merci'}\n",
      "'poisson'\n",
      "{'cat': 'chat',\n",
      " 'fish': 'poisson',\n",
      " 'food': 'aliment',\n",
      " 'good afternoon': 'salut',\n",
      " 'good night': 'Bonne nuit',\n",
      " 'thank you': 'Merci'}\n"
     ]
    }
   ],
   "source": [
    "from pprint import pprint \n",
    "dictionary = {\n",
    "    \"good afternoon\" : \"bonjour\",\n",
    "    \"good night\" : \"Bonne nuit\",\n",
    "    \"thank you\" : \"Merci\",\n",
    "    \"food\" : \"aliment\",\n",
    "    \"words\" : \"mot\",\n",
    "    \"cat\" : \"chat\"\n",
    "}\n",
    "pprint (dictionary)\n",
    "#добавление\n",
    "dictionary_new = {\n",
    "     \"fish\": \"poisson\"\n",
    "}\n",
    "dictionary.update (dictionary_new)\n",
    "pprint(dictionary)\n",
    "#удаление\n",
    "del dictionary[\"words\"]\n",
    "pprint(dictionary)\n",
    "pprint(dictionary [\"fish\"])\n",
    "#замена\n",
    "dictionary[\"good afternoon\"] = \"salut\"\n",
    "pprint(dictionary)"
   ]
  },
  {
   "cell_type": "code",
   "execution_count": 25,
   "id": "d15d16a9",
   "metadata": {},
   "outputs": [
    {
     "name": "stdout",
     "output_type": "stream",
     "text": [
      "{False, 1.3, 2.0, True, 2.4, 5, 'Bonne nuit', 8, 9, 'bonjour', None, 'hello'}\n",
      "{False, 9, 5}\n",
      "{False, 1.3, True, 2.0, 8, 9, 'bonjour', None}\n"
     ]
    }
   ],
   "source": [
    "from pprint import pprint \n",
    "A = {2.0, \"bonjour\", \"hello\", 5, 9, False}\n",
    "B = {1.3, \"hello\", None, 5, 8, True}\n",
    "C = {2.4, False, 0, None, 5, 9, \"Bonne nuit\"}\n",
    " #Объединяем множества A, B, С:\n",
    "all = A.union(B).union(C)  \n",
    "print(all)\n",
    "# Одинаковые элементы для A и C\n",
    "z = A.intersection(C)  \n",
    "print(z)\n",
    "# Разные элементы для A и B.\n",
    "y = A.symmetric_difference(B)\n",
    "print(y)"
   ]
  },
  {
   "cell_type": "code",
   "execution_count": 35,
   "id": "d5bb1a85",
   "metadata": {},
   "outputs": [
    {
     "name": "stdout",
     "output_type": "stream",
     "text": [
      "(7,)\n",
      "[11]\n",
      "[9]\n",
      "[]\n",
      "7\n",
      "7\n",
      "5\n"
     ]
    }
   ],
   "source": [
    "# кортежи\n",
    "# \n",
    "first_1 = (1, 2, 3, 7, 11)\n",
    "second_2 = (2, 4, 5, 7, 9)\n",
    "third_3 = (1, 3, 4, 5, 7)\n",
    "# Элементы, которые есть во всех кортежах\n",
    "a = tuple(set(first_1) & set(second_2) & set(third_3))\n",
    "print(a)\n",
    "#Элементы, которые уникальны для каждого списка\n",
    "elements_1 = list(set(first_1) - set(second_2) - set(third_3))\n",
    "elements_2 = list(set(second_2) - set(first_1) - set(third_3))\n",
    "elements_3 = list(set(third_3) - set(second_2) - set(first_1))\n",
    "print(elements_1)\n",
    "print(elements_2)\n",
    "print(elements_3)\n",
    "#Элементы, которые есть в каждом из кортежей и на той же позиции\n",
    "print(first_1[3])\n",
    "print(second_2[3])\n",
    "print(third_3[3])\n",
    "\n",
    "\n"
   ]
  },
  {
   "cell_type": "code",
   "execution_count": null,
   "id": "ad49a3cf",
   "metadata": {},
   "outputs": [],
   "source": []
  }
 ],
 "metadata": {
  "kernelspec": {
   "display_name": "Python 3",
   "language": "python",
   "name": "python3"
  },
  "language_info": {
   "codemirror_mode": {
    "name": "ipython",
    "version": 3
   },
   "file_extension": ".py",
   "mimetype": "text/x-python",
   "name": "python",
   "nbconvert_exporter": "python",
   "pygments_lexer": "ipython3",
   "version": "3.9.5"
  }
 },
 "nbformat": 4,
 "nbformat_minor": 5
}
