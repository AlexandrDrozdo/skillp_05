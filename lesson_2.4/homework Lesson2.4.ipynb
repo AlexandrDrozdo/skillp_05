{
 "cells": [
  {
   "cell_type": "code",
   "execution_count": 7,
   "id": "e483f88b",
   "metadata": {},
   "outputs": [
    {
     "name": "stdout",
     "output_type": "stream",
     "text": [
      "список целых  чисел 1 [17, 20, 7, 14, 17, 6, 8, 1, 8, 13]\n",
      "список целых  чисел 2 [16, 18, 7, 5, 14, 9, 12, 15, 10, 8]\n",
      "список целых  чисел 3 [17, 20, 7, 14, 17, 6, 8, 1, 8, 13, 16, 18, 7, 5, 14, 9, 12, 15, 10, 8]\n",
      "список содержащий элементы обоих списков без повторений [1, 5, 6, 7, 8, 9, 10, 12, 13, 14, 15, 16, 17, 18, 20]\n",
      "список, содержащий элементы общие для двух списков {8, 14, 7}\n",
      "список, содержащий только уникальные элементы каждого из списков [1, 5, 6, 9, 10, 12, 13, 15, 16, 17, 18, 20]\n",
      "список, содержащий только минимальное и максимальное значение каждого из списков [1, 5, 20, 18]\n"
     ]
    }
   ],
   "source": [
    "#Два списка целых  чисел\n",
    "import random\n",
    "mylist_1=[]\n",
    "mylist_2=[]\n",
    "for i in (range(0,10)):\n",
    "    mylist_1.append(random.randint(1,20))\n",
    "    mylist_2.append(random.randint(1,20))\n",
    "print('список целых  чисел 1',mylist_1)\n",
    "print('список целых  чисел 2',mylist_2)\n",
    "#третий список, содержащий элементы обоих списков\n",
    "mylist_3=mylist_1+mylist_2\n",
    "print('список целых  чисел 3',mylist_3)\n",
    "# список содержащий элементы обоих списков без повторений\n",
    "mylist_4=list(set(mylist_3))\n",
    "print('список содержащий элементы обоих списков без повторений',mylist_4)\n",
    "#список, содержащий элементы общие для двух списков\n",
    "mylist_5=set(mylist_1) & set(mylist_2)\n",
    "print('список, содержащий элементы общие для двух списков',mylist_5)\n",
    "#список, содержащий только уникальные элементы каждого из списков;\n",
    "mylist_6=sorted(list(set(mylist_1) - set(mylist_2)) + list(set(mylist_2) - set(mylist_1)))\n",
    "print('список, содержащий только уникальные элементы каждого из списков',mylist_6)\n",
    "#список, содержащий только минимальное и максимальное значение каждого из списков\n",
    "mylist_7= []\n",
    "mylist_7.append(min(mylist_1))\n",
    "mylist_7.append(min(mylist_2))\n",
    "mylist_7.append(max(mylist_1))\n",
    "mylist_7.append(max(mylist_2))\n",
    "print('список, содержащий только минимальное и максимальное значение каждого из списков',mylist_7)\n",
    "\n",
    "\n",
    "\n",
    "\n"
   ]
  },
  {
   "cell_type": "code",
   "execution_count": null,
   "id": "522528c6",
   "metadata": {},
   "outputs": [],
   "source": []
  }
 ],
 "metadata": {
  "kernelspec": {
   "display_name": "Python 3",
   "language": "python",
   "name": "python3"
  },
  "language_info": {
   "codemirror_mode": {
    "name": "ipython",
    "version": 3
   },
   "file_extension": ".py",
   "mimetype": "text/x-python",
   "name": "python",
   "nbconvert_exporter": "python",
   "pygments_lexer": "ipython3",
   "version": "3.9.5"
  }
 },
 "nbformat": 4,
 "nbformat_minor": 5
}
